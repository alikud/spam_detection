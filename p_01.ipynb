{
 "cells": [
  {
   "cell_type": "markdown",
   "source": [
    "## Проект по созданию модели машинного обучения, предназначенной для классификации емейлов. Изначально дан датасет на 5728 строк, в котором 1 отмечены емейлы являющиеся спамом\n",
    "В проекте используется классификатор Байеса а так же логистическая регрессия"
   ],
   "metadata": {}
  },
  {
   "cell_type": "markdown",
   "source": [
    "Прочитаем данные, а так же импортируем некоторые зависимости"
   ],
   "metadata": {}
  },
  {
   "cell_type": "code",
   "execution_count": 1,
   "source": [
    "import numpy as np \n",
    "import pandas as pd\n",
    "import matplotlib.pyplot as plt\n",
    "\n",
    "df = pd.read_csv('emails.csv')\n",
    "print(df.shape)\n",
    "df = df.sample(frac=1).reset_index(drop=True)"
   ],
   "outputs": [
    {
     "output_type": "stream",
     "name": "stdout",
     "text": [
      "(5728, 2)\n"
     ]
    }
   ],
   "metadata": {}
  },
  {
   "cell_type": "code",
   "execution_count": 2,
   "source": [
    "df.tail(15)"
   ],
   "outputs": [
    {
     "output_type": "execute_result",
     "data": {
      "text/html": [
       "<div>\n",
       "<style scoped>\n",
       "    .dataframe tbody tr th:only-of-type {\n",
       "        vertical-align: middle;\n",
       "    }\n",
       "\n",
       "    .dataframe tbody tr th {\n",
       "        vertical-align: top;\n",
       "    }\n",
       "\n",
       "    .dataframe thead th {\n",
       "        text-align: right;\n",
       "    }\n",
       "</style>\n",
       "<table border=\"1\" class=\"dataframe\">\n",
       "  <thead>\n",
       "    <tr style=\"text-align: right;\">\n",
       "      <th></th>\n",
       "      <th>text</th>\n",
       "      <th>spam</th>\n",
       "    </tr>\n",
       "  </thead>\n",
       "  <tbody>\n",
       "    <tr>\n",
       "      <th>5713</th>\n",
       "      <td>Subject: re : rice course  thank you , see you...</td>\n",
       "      <td>0</td>\n",
       "    </tr>\n",
       "    <tr>\n",
       "      <th>5714</th>\n",
       "      <td>Subject: re : weekly report  vasant ,  yes , i...</td>\n",
       "      <td>0</td>\n",
       "    </tr>\n",
       "    <tr>\n",
       "      <th>5715</th>\n",
       "      <td>Subject: undelivered mail returned to sender  ...</td>\n",
       "      <td>1</td>\n",
       "    </tr>\n",
       "    <tr>\n",
       "      <th>5716</th>\n",
       "      <td>Subject: candlestick charts  fyi fallout  - - ...</td>\n",
       "      <td>0</td>\n",
       "    </tr>\n",
       "    <tr>\n",
       "      <th>5717</th>\n",
       "      <td>Subject: black table for conference room and f...</td>\n",
       "      <td>0</td>\n",
       "    </tr>\n",
       "    <tr>\n",
       "      <th>5718</th>\n",
       "      <td>Subject: tw capacity options  we ' re at the p...</td>\n",
       "      <td>0</td>\n",
       "    </tr>\n",
       "    <tr>\n",
       "      <th>5719</th>\n",
       "      <td>Subject: career opportunity  dear mr . kaminsk...</td>\n",
       "      <td>0</td>\n",
       "    </tr>\n",
       "    <tr>\n",
       "      <th>5720</th>\n",
       "      <td>Subject: new stock : shooting stars stock repo...</td>\n",
       "      <td>1</td>\n",
       "    </tr>\n",
       "    <tr>\n",
       "      <th>5721</th>\n",
       "      <td>Subject: followup  patricia ,  i have forwarde...</td>\n",
       "      <td>0</td>\n",
       "    </tr>\n",
       "    <tr>\n",
       "      <th>5722</th>\n",
       "      <td>Subject: extra time - cures premature ejaculat...</td>\n",
       "      <td>1</td>\n",
       "    </tr>\n",
       "    <tr>\n",
       "      <th>5723</th>\n",
       "      <td>Subject: i know your company !  lt is really h...</td>\n",
       "      <td>1</td>\n",
       "    </tr>\n",
       "    <tr>\n",
       "      <th>5724</th>\n",
       "      <td>Subject: option hedging for ees  eugene ,  bob...</td>\n",
       "      <td>0</td>\n",
       "    </tr>\n",
       "    <tr>\n",
       "      <th>5725</th>\n",
       "      <td>Subject: re : energy derivatives  hi vince ,  ...</td>\n",
       "      <td>0</td>\n",
       "    </tr>\n",
       "    <tr>\n",
       "      <th>5726</th>\n",
       "      <td>Subject: re : confidential  yannis ,  yes , ve...</td>\n",
       "      <td>0</td>\n",
       "    </tr>\n",
       "    <tr>\n",
       "      <th>5727</th>\n",
       "      <td>Subject: godbole report  vince / stinson ,  th...</td>\n",
       "      <td>0</td>\n",
       "    </tr>\n",
       "  </tbody>\n",
       "</table>\n",
       "</div>"
      ],
      "text/plain": [
       "                                                   text  spam\n",
       "5713  Subject: re : rice course  thank you , see you...     0\n",
       "5714  Subject: re : weekly report  vasant ,  yes , i...     0\n",
       "5715  Subject: undelivered mail returned to sender  ...     1\n",
       "5716  Subject: candlestick charts  fyi fallout  - - ...     0\n",
       "5717  Subject: black table for conference room and f...     0\n",
       "5718  Subject: tw capacity options  we ' re at the p...     0\n",
       "5719  Subject: career opportunity  dear mr . kaminsk...     0\n",
       "5720  Subject: new stock : shooting stars stock repo...     1\n",
       "5721  Subject: followup  patricia ,  i have forwarde...     0\n",
       "5722  Subject: extra time - cures premature ejaculat...     1\n",
       "5723  Subject: i know your company !  lt is really h...     1\n",
       "5724  Subject: option hedging for ees  eugene ,  bob...     0\n",
       "5725  Subject: re : energy derivatives  hi vince ,  ...     0\n",
       "5726  Subject: re : confidential  yannis ,  yes , ve...     0\n",
       "5727  Subject: godbole report  vince / stinson ,  th...     0"
      ]
     },
     "metadata": {},
     "execution_count": 2
    }
   ],
   "metadata": {}
  },
  {
   "cell_type": "code",
   "execution_count": 3,
   "source": [
    "df.info()"
   ],
   "outputs": [
    {
     "output_type": "stream",
     "name": "stdout",
     "text": [
      "<class 'pandas.core.frame.DataFrame'>\n",
      "RangeIndex: 5728 entries, 0 to 5727\n",
      "Data columns (total 2 columns):\n",
      " #   Column  Non-Null Count  Dtype \n",
      "---  ------  --------------  ----- \n",
      " 0   text    5728 non-null   object\n",
      " 1   spam    5728 non-null   int64 \n",
      "dtypes: int64(1), object(1)\n",
      "memory usage: 89.6+ KB\n"
     ]
    }
   ],
   "metadata": {}
  },
  {
   "cell_type": "markdown",
   "source": [
    "Определим, сколько писем в наборе данных являются спамом"
   ],
   "metadata": {}
  },
  {
   "cell_type": "code",
   "execution_count": 4,
   "source": [
    "df['spam'].value_counts()"
   ],
   "outputs": [
    {
     "output_type": "execute_result",
     "data": {
      "text/plain": [
       "0    4360\n",
       "1    1368\n",
       "Name: spam, dtype: int64"
      ]
     },
     "metadata": {},
     "execution_count": 4
    }
   ],
   "metadata": {}
  },
  {
   "cell_type": "code",
   "execution_count": 5,
   "source": [
    "plt.pie(df['spam'].value_counts(), labels = ['not spam', 'spam'])"
   ],
   "outputs": [
    {
     "output_type": "execute_result",
     "data": {
      "text/plain": [
       "([<matplotlib.patches.Wedge at 0x7fc0ef864850>,\n",
       "  <matplotlib.patches.Wedge at 0x7fc0ef864cd0>],\n",
       " [Text(-0.8046353619747643, 0.7500412883700072, 'not spam'),\n",
       "  Text(0.8046353619747643, -0.7500412883700073, 'spam')])"
      ]
     },
     "metadata": {},
     "execution_count": 5
    },
    {
     "output_type": "display_data",
     "data": {
      "image/png": "[encoded data removed]",
      "text/plain": [
       "<Figure size 640x480 with 1 Axes>"
      ]
     },
     "metadata": {}
    }
   ],
   "metadata": {}
  },
  {
   "cell_type": "markdown",
   "source": [
    "Используем инструменты nlp для обработки текста(отчистка, удаление знаков пунктуации и тд)"
   ],
   "metadata": {}
  },
  {
   "cell_type": "code",
   "execution_count": 6,
   "source": [
    "from nltk import word_tokenize\n",
    "from nltk.corpus import stopwords\n",
    "import string\n",
    "\n",
    "def count_words(text):\n",
    "    words = word_tokenize(text)\n",
    "    return len(words)\n",
    "\n",
    "def process_text(text):\n",
    "    no_punc = [char for char in text if char not in string.punctuation]\n",
    "    no_punc = ''.join(no_punc)\n",
    "    \n",
    "    \n",
    "    return ' '.join([word for word in no_punc.split() if word.lower() not in stopwords.words('english')])"
   ],
   "outputs": [],
   "metadata": {}
  },
  {
   "cell_type": "code",
   "execution_count": 8,
   "source": [
    "#Пример, так же нужно применить эту функцию для всего набора данных\n",
    "process_text('Subject: thank - you . . . dear dr . kaminski...')"
   ],
   "outputs": [
    {
     "output_type": "execute_result",
     "data": {
      "text/plain": [
       "'Subject thank dear dr kaminski'"
      ]
     },
     "metadata": {},
     "execution_count": 8
    }
   ],
   "metadata": {}
  },
  {
   "cell_type": "code",
   "execution_count": 9,
   "source": [
    "df['text']=df['text'].apply(process_text)"
   ],
   "outputs": [],
   "metadata": {}
  },
  {
   "cell_type": "code",
   "execution_count": 10,
   "source": [
    "df"
   ],
   "outputs": [
    {
     "output_type": "execute_result",
     "data": {
      "text/html": [
       "<div>\n",
       "<style scoped>\n",
       "    .dataframe tbody tr th:only-of-type {\n",
       "        vertical-align: middle;\n",
       "    }\n",
       "\n",
       "    .dataframe tbody tr th {\n",
       "        vertical-align: top;\n",
       "    }\n",
       "\n",
       "    .dataframe thead th {\n",
       "        text-align: right;\n",
       "    }\n",
       "</style>\n",
       "<table border=\"1\" class=\"dataframe\">\n",
       "  <thead>\n",
       "    <tr style=\"text-align: right;\">\n",
       "      <th></th>\n",
       "      <th>text</th>\n",
       "      <th>spam</th>\n",
       "    </tr>\n",
       "  </thead>\n",
       "  <tbody>\n",
       "    <tr>\n",
       "      <th>0</th>\n",
       "      <td>Subject mg metals london research responsibili...</td>\n",
       "      <td>0</td>\n",
       "    </tr>\n",
       "    <tr>\n",
       "      <th>1</th>\n",
       "      <td>Subject information dear mr kaminski thank muc...</td>\n",
       "      <td>0</td>\n",
       "    </tr>\n",
       "    <tr>\n",
       "      <th>2</th>\n",
       "      <td>Subject friendly professional online pharmacy ...</td>\n",
       "      <td>1</td>\n",
       "    </tr>\n",
       "    <tr>\n",
       "      <th>3</th>\n",
       "      <td>Subject telephone interview enron research gro...</td>\n",
       "      <td>0</td>\n",
       "    </tr>\n",
       "    <tr>\n",
       "      <th>4</th>\n",
       "      <td>Subject moddeling support dpc related issues q...</td>\n",
       "      <td>0</td>\n",
       "    </tr>\n",
       "    <tr>\n",
       "      <th>...</th>\n",
       "      <td>...</td>\n",
       "      <td>...</td>\n",
       "    </tr>\n",
       "    <tr>\n",
       "      <th>5723</th>\n",
       "      <td>Subject know company lt really hard recollect ...</td>\n",
       "      <td>1</td>\n",
       "    </tr>\n",
       "    <tr>\n",
       "      <th>5724</th>\n",
       "      <td>Subject option hedging ees eugene bob discussi...</td>\n",
       "      <td>0</td>\n",
       "    </tr>\n",
       "    <tr>\n",
       "      <th>5725</th>\n",
       "      <td>Subject energy derivatives hi vince hope well ...</td>\n",
       "      <td>0</td>\n",
       "    </tr>\n",
       "    <tr>\n",
       "      <th>5726</th>\n",
       "      <td>Subject confidential yannis yes much please st...</td>\n",
       "      <td>0</td>\n",
       "    </tr>\n",
       "    <tr>\n",
       "      <th>5727</th>\n",
       "      <td>Subject godbole report vince stinson summary f...</td>\n",
       "      <td>0</td>\n",
       "    </tr>\n",
       "  </tbody>\n",
       "</table>\n",
       "<p>5728 rows × 2 columns</p>\n",
       "</div>"
      ],
      "text/plain": [
       "                                                   text  spam\n",
       "0     Subject mg metals london research responsibili...     0\n",
       "1     Subject information dear mr kaminski thank muc...     0\n",
       "2     Subject friendly professional online pharmacy ...     1\n",
       "3     Subject telephone interview enron research gro...     0\n",
       "4     Subject moddeling support dpc related issues q...     0\n",
       "...                                                 ...   ...\n",
       "5723  Subject know company lt really hard recollect ...     1\n",
       "5724  Subject option hedging ees eugene bob discussi...     0\n",
       "5725  Subject energy derivatives hi vince hope well ...     0\n",
       "5726  Subject confidential yannis yes much please st...     0\n",
       "5727  Subject godbole report vince stinson summary f...     0\n",
       "\n",
       "[5728 rows x 2 columns]"
      ]
     },
     "metadata": {},
     "execution_count": 10
    }
   ],
   "metadata": {}
  },
  {
   "cell_type": "markdown",
   "source": [
    "### Теперь можно использовать стемминг Портера"
   ],
   "metadata": {}
  },
  {
   "cell_type": "code",
   "execution_count": 11,
   "source": [
    "from nltk.stem import PorterStemmer\n",
    "stemmer = PorterStemmer()\n",
    "def stemming (text):\n",
    "    return ''.join([stemmer.stem(word) for word in text])\n",
    "\n",
    "df['text']=df['text'].apply(stemming)"
   ],
   "outputs": [],
   "metadata": {}
  },
  {
   "cell_type": "code",
   "execution_count": 12,
   "source": [
    "df"
   ],
   "outputs": [
    {
     "output_type": "execute_result",
     "data": {
      "text/html": [
       "<div>\n",
       "<style scoped>\n",
       "    .dataframe tbody tr th:only-of-type {\n",
       "        vertical-align: middle;\n",
       "    }\n",
       "\n",
       "    .dataframe tbody tr th {\n",
       "        vertical-align: top;\n",
       "    }\n",
       "\n",
       "    .dataframe thead th {\n",
       "        text-align: right;\n",
       "    }\n",
       "</style>\n",
       "<table border=\"1\" class=\"dataframe\">\n",
       "  <thead>\n",
       "    <tr style=\"text-align: right;\">\n",
       "      <th></th>\n",
       "      <th>text</th>\n",
       "      <th>spam</th>\n",
       "    </tr>\n",
       "  </thead>\n",
       "  <tbody>\n",
       "    <tr>\n",
       "      <th>0</th>\n",
       "      <td>subject mg metals london research responsibili...</td>\n",
       "      <td>0</td>\n",
       "    </tr>\n",
       "    <tr>\n",
       "      <th>1</th>\n",
       "      <td>subject information dear mr kaminski thank muc...</td>\n",
       "      <td>0</td>\n",
       "    </tr>\n",
       "    <tr>\n",
       "      <th>2</th>\n",
       "      <td>subject friendly professional online pharmacy ...</td>\n",
       "      <td>1</td>\n",
       "    </tr>\n",
       "    <tr>\n",
       "      <th>3</th>\n",
       "      <td>subject telephone interview enron research gro...</td>\n",
       "      <td>0</td>\n",
       "    </tr>\n",
       "    <tr>\n",
       "      <th>4</th>\n",
       "      <td>subject moddeling support dpc related issues q...</td>\n",
       "      <td>0</td>\n",
       "    </tr>\n",
       "    <tr>\n",
       "      <th>...</th>\n",
       "      <td>...</td>\n",
       "      <td>...</td>\n",
       "    </tr>\n",
       "    <tr>\n",
       "      <th>5723</th>\n",
       "      <td>subject know company lt really hard recollect ...</td>\n",
       "      <td>1</td>\n",
       "    </tr>\n",
       "    <tr>\n",
       "      <th>5724</th>\n",
       "      <td>subject option hedging ees eugene bob discussi...</td>\n",
       "      <td>0</td>\n",
       "    </tr>\n",
       "    <tr>\n",
       "      <th>5725</th>\n",
       "      <td>subject energy derivatives hi vince hope well ...</td>\n",
       "      <td>0</td>\n",
       "    </tr>\n",
       "    <tr>\n",
       "      <th>5726</th>\n",
       "      <td>subject confidential yannis yes much please st...</td>\n",
       "      <td>0</td>\n",
       "    </tr>\n",
       "    <tr>\n",
       "      <th>5727</th>\n",
       "      <td>subject godbole report vince stinson summary f...</td>\n",
       "      <td>0</td>\n",
       "    </tr>\n",
       "  </tbody>\n",
       "</table>\n",
       "<p>5728 rows × 2 columns</p>\n",
       "</div>"
      ],
      "text/plain": [
       "                                                   text  spam\n",
       "0     subject mg metals london research responsibili...     0\n",
       "1     subject information dear mr kaminski thank muc...     0\n",
       "2     subject friendly professional online pharmacy ...     1\n",
       "3     subject telephone interview enron research gro...     0\n",
       "4     subject moddeling support dpc related issues q...     0\n",
       "...                                                 ...   ...\n",
       "5723  subject know company lt really hard recollect ...     1\n",
       "5724  subject option hedging ees eugene bob discussi...     0\n",
       "5725  subject energy derivatives hi vince hope well ...     0\n",
       "5726  subject confidential yannis yes much please st...     0\n",
       "5727  subject godbole report vince stinson summary f...     0\n",
       "\n",
       "[5728 rows x 2 columns]"
      ]
     },
     "metadata": {},
     "execution_count": 12
    }
   ],
   "metadata": {}
  },
  {
   "cell_type": "markdown",
   "source": [
    "### Переведем текст в числа для последющей работы"
   ],
   "metadata": {}
  },
  {
   "cell_type": "code",
   "execution_count": 13,
   "source": [
    "from sklearn.feature_extraction.text import CountVectorizer\n",
    "vectorizer= CountVectorizer()\n",
    "mb = vectorizer.fit_transform(df['text'])\n",
    "\n",
    "mb_array = mb.toarray()\n",
    "print(f\"shape is {mb_array.shape}\")"
   ],
   "outputs": [
    {
     "output_type": "stream",
     "name": "stdout",
     "text": [
      "shape is (5728, 37187)\n"
     ]
    }
   ],
   "metadata": {}
  },
  {
   "cell_type": "markdown",
   "source": [
    "### Делим на наборы данных(train, test), а так же создаем и обучаем Байесовский классификатор и выводим отчет по основным метрикам\n"
   ],
   "metadata": {}
  },
  {
   "cell_type": "code",
   "execution_count": 14,
   "source": [
    "from sklearn.model_selection import train_test_split\n",
    "from sklearn.naive_bayes import MultinomialNB\n",
    "\n",
    "# train,test dataset\n",
    "X_train,X_test,y_train,y_test = train_test_split(mb,df['spam'],test_size=0.33)\n",
    "\n",
    "# Bayes\n",
    "nb = MultinomialNB()\n",
    "nb.fit(X_train,y_train)\n",
    "y_pred = nb.predict(X_test)"
   ],
   "outputs": [],
   "metadata": {}
  },
  {
   "cell_type": "code",
   "execution_count": 15,
   "source": [
    "from sklearn.metrics import classification_report\n",
    "print(classification_report(y_test,y_pred))"
   ],
   "outputs": [
    {
     "output_type": "stream",
     "name": "stdout",
     "text": [
      "              precision    recall  f1-score   support\n",
      "\n",
      "           0       1.00      0.99      0.99      1460\n",
      "           1       0.96      0.99      0.97       431\n",
      "\n",
      "    accuracy                           0.99      1891\n",
      "   macro avg       0.98      0.99      0.98      1891\n",
      "weighted avg       0.99      0.99      0.99      1891\n",
      "\n"
     ]
    }
   ],
   "metadata": {}
  },
  {
   "cell_type": "markdown",
   "source": [
    "### Выведем визуально отчет по модели (confusion matrix)\n"
   ],
   "metadata": {}
  },
  {
   "cell_type": "markdown",
   "source": [
    "### Обучим другую модель для сравнения\n"
   ],
   "metadata": {}
  },
  {
   "cell_type": "code",
   "execution_count": 18,
   "source": [
    "from sklearn.linear_model import LogisticRegression\n",
    "clf = LogisticRegression(random_state=0,C=1e4).fit(X_train, y_train)"
   ],
   "outputs": [],
   "metadata": {}
  },
  {
   "cell_type": "code",
   "execution_count": 19,
   "source": [
    "y_predicted = clf.predict(X_test)"
   ],
   "outputs": [],
   "metadata": {}
  },
  {
   "cell_type": "markdown",
   "source": [
    "### Выводим отчет"
   ],
   "metadata": {}
  },
  {
   "cell_type": "code",
   "execution_count": 20,
   "source": [
    "from sklearn import metrics \n",
    "print(metrics.classification_report(y_test, y_predicted))"
   ],
   "outputs": [
    {
     "output_type": "stream",
     "name": "stdout",
     "text": [
      "              precision    recall  f1-score   support\n",
      "\n",
      "           0       0.99      0.99      0.99      1460\n",
      "           1       0.97      0.97      0.97       431\n",
      "\n",
      "    accuracy                           0.99      1891\n",
      "   macro avg       0.98      0.98      0.98      1891\n",
      "weighted avg       0.99      0.99      0.99      1891\n",
      "\n"
     ]
    }
   ],
   "metadata": {}
  },
  {
   "cell_type": "code",
   "execution_count": 21,
   "source": [
    "print(f\"Accurancy score {metrics.accuracy_score(y_test, y_predicted)}\")\n",
    "print(f\"Precision score {metrics.precision_score(y_test, y_predicted)}\")\n",
    "print(f\"Recall score {metrics.recall_score(y_test, y_predicted)}\")\n",
    "error = metrics.mean_squared_error(y_test, y_predicted)\n",
    "print(f\"MSE metric {error}\")"
   ],
   "outputs": [
    {
     "output_type": "stream",
     "name": "stdout",
     "text": [
      "Accurancy score 0.9862506610259122\n",
      "Precision score 0.9698375870069605\n",
      "Recall score 0.9698375870069605\n",
      "MSE metric 0.013749338974087784\n"
     ]
    }
   ],
   "metadata": {}
  }
 ],
 "metadata": {
  "kernelspec": {
   "name": "python3",
   "display_name": "Python 3.8.5 64-bit ('env': venv)"
  },
  "language_info": {
   "codemirror_mode": {
    "name": "ipython",
    "version": 3
   },
   "file_extension": ".py",
   "mimetype": "text/x-python",
   "name": "python",
   "nbconvert_exporter": "python",
   "pygments_lexer": "ipython3",
   "version": "3.8.5"
  },
  "interpreter": {
   "hash": "f734e1673f86c8e3f591738f8310af442e846bc79c8750be257479ded60bad23"
  }
 },
 "nbformat": 4,
 "nbformat_minor": 5
}